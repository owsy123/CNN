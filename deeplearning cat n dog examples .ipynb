{
 "cells": [
  {
   "cell_type": "code",
   "execution_count": 1,
   "metadata": {},
   "outputs": [],
   "source": [
    "import os, shutil\n",
    "original_dataset_dir = 'D:/owais/dogs-vs-cats'\n",
    "base_dir = 'D:/owais/dogs-vs-cats_small'\n",
    "os.mkdir(base_dir)\n",
    "original_dataset_dir = 'D:/owais/dogs-vs-cats/train/train'\n",
    "base_dir = 'D:/owais/dogs-vs-cats_small'\n",
    "train_dir = os.path.join(base_dir, 'train')\n",
    "os.mkdir(train_dir)\n",
    "validation_dir = os.path.join(base_dir, 'validation')\n",
    "os.mkdir(validation_dir)\n",
    "test_dir = os.path.join(base_dir, 'test')\n",
    "os.mkdir(test_dir)\n",
    "train_cats_dir = os.path.join(train_dir, 'cats')\n",
    "os.mkdir(train_cats_dir)\n",
    "train_dogs_dir = os.path.join(train_dir, 'dogs')\n",
    "os.mkdir(train_dogs_dir)\n",
    "validation_cats_dir = os.path.join(validation_dir, 'cats')\n",
    "os.mkdir(validation_cats_dir)\n",
    "validation_dogs_dir = os.path.join(validation_dir, 'dogs')\n",
    "os.mkdir(validation_dogs_dir)\n",
    "test_cats_dir = os.path.join(test_dir, 'cats')\n",
    "os.mkdir(test_cats_dir)\n",
    "test_dogs_dir = os.path.join(test_dir, 'dogs')\n",
    "os.mkdir(test_dogs_dir)\n",
    "fnames = ['cat.{}.jpg'.format(i) for i in range(1000)]\n",
    "for fname in fnames:\n",
    "    src = os.path.join(original_dataset_dir, fname)\n",
    "    dst = os.path.join(train_cats_dir, fname)\n",
    "    shutil.copyfile(src, dst)\n",
    "    fnames = ['cat.{}.jpg'.format(i) for i in range(1000, 1500)]\n",
    "for fname in fnames:\n",
    "    src = os.path.join(original_dataset_dir, fname)\n",
    "    dst = os.path.join(validation_cats_dir, fname)\n",
    "    shutil.copyfile(src, dst)\n",
    "    fnames = ['cat.{}.jpg'.format(i) for i in range(1500, 2000)]\n",
    "for fname in fnames:\n",
    "    src = os.path.join(original_dataset_dir, fname)\n",
    "    dst = os.path.join(test_cats_dir, fname)\n",
    "    shutil.copyfile(src, dst)"
   ]
  },
  {
   "cell_type": "code",
   "execution_count": 2,
   "metadata": {},
   "outputs": [],
   "source": [
    "fnames = ['dog.{}.jpg'.format(i) for i in range(1000)]\n",
    "for fname in fnames:\n",
    "    src = os.path.join(original_dataset_dir, fname)\n",
    "    dst = os.path.join(train_dogs_dir, fname)\n",
    "    shutil.copyfile(src, dst)\n",
    "    fnames = ['dog.{}.jpg'.format(i) for i in range(1000, 1500)]\n",
    "for fname in fnames:\n",
    "    src = os.path.join(original_dataset_dir, fname)\n",
    "    dst = os.path.join(validation_dogs_dir, fname)\n",
    "    shutil.copyfile(src, dst)\n",
    "    fnames = ['dog.{}.jpg'.format(i) for i in range(1500, 2000)]\n",
    "for fname in fnames:\n",
    "    src = os.path.join(original_dataset_dir, fname)\n",
    "    dst = os.path.join(test_dogs_dir, fname)\n",
    "    shutil.copyfile(src, dst)"
   ]
  },
  {
   "cell_type": "code",
   "execution_count": 3,
   "metadata": {},
   "outputs": [
    {
     "name": "stderr",
     "output_type": "stream",
     "text": [
      "Using TensorFlow backend.\n",
      "WARNING: Logging before flag parsing goes to stderr.\n",
      "W1006 02:09:59.381744  7028 deprecation_wrapper.py:119] From C:\\Users\\asus\\Anaconda3\\lib\\site-packages\\keras\\backend\\tensorflow_backend.py:74: The name tf.get_default_graph is deprecated. Please use tf.compat.v1.get_default_graph instead.\n",
      "\n",
      "W1006 02:09:59.719038  7028 deprecation_wrapper.py:119] From C:\\Users\\asus\\Anaconda3\\lib\\site-packages\\keras\\backend\\tensorflow_backend.py:517: The name tf.placeholder is deprecated. Please use tf.compat.v1.placeholder instead.\n",
      "\n",
      "W1006 02:09:59.876615  7028 deprecation_wrapper.py:119] From C:\\Users\\asus\\Anaconda3\\lib\\site-packages\\keras\\backend\\tensorflow_backend.py:4138: The name tf.random_uniform is deprecated. Please use tf.random.uniform instead.\n",
      "\n",
      "W1006 02:10:00.068255  7028 deprecation_wrapper.py:119] From C:\\Users\\asus\\Anaconda3\\lib\\site-packages\\keras\\backend\\tensorflow_backend.py:3976: The name tf.nn.max_pool is deprecated. Please use tf.nn.max_pool2d instead.\n",
      "\n"
     ]
    }
   ],
   "source": [
    "from keras import layers\n",
    "from keras import models\n",
    "model = models.Sequential()\n",
    "model.add(layers.Conv2D(32, (3, 3), activation='relu',\n",
    "input_shape=(150, 150, 3)))\n",
    "model.add(layers.MaxPooling2D((2, 2)))\n",
    "model.add(layers.Conv2D(64, (3, 3), activation='relu'))\n",
    "model.add(layers.MaxPooling2D((2, 2)))\n",
    "model.add(layers.Conv2D(128, (3, 3), activation='relu'))\n",
    "model.add(layers.MaxPooling2D((2, 2)))\n",
    "model.add(layers.Conv2D(128, (3, 3), activation='relu'))\n",
    "model.add(layers.MaxPooling2D((2, 2)))\n",
    "model.add(layers.Flatten())\n",
    "model.add(layers.Dense(512, activation='relu'))\n",
    "model.add(layers.Dense(1, activation='sigmoid'))"
   ]
  },
  {
   "cell_type": "code",
   "execution_count": 4,
   "metadata": {},
   "outputs": [
    {
     "name": "stdout",
     "output_type": "stream",
     "text": [
      "_________________________________________________________________\n",
      "Layer (type)                 Output Shape              Param #   \n",
      "=================================================================\n",
      "conv2d_1 (Conv2D)            (None, 148, 148, 32)      896       \n",
      "_________________________________________________________________\n",
      "max_pooling2d_1 (MaxPooling2 (None, 74, 74, 32)        0         \n",
      "_________________________________________________________________\n",
      "conv2d_2 (Conv2D)            (None, 72, 72, 64)        18496     \n",
      "_________________________________________________________________\n",
      "max_pooling2d_2 (MaxPooling2 (None, 36, 36, 64)        0         \n",
      "_________________________________________________________________\n",
      "conv2d_3 (Conv2D)            (None, 34, 34, 128)       73856     \n",
      "_________________________________________________________________\n",
      "max_pooling2d_3 (MaxPooling2 (None, 17, 17, 128)       0         \n",
      "_________________________________________________________________\n",
      "conv2d_4 (Conv2D)            (None, 15, 15, 128)       147584    \n",
      "_________________________________________________________________\n",
      "max_pooling2d_4 (MaxPooling2 (None, 7, 7, 128)         0         \n",
      "_________________________________________________________________\n",
      "flatten_1 (Flatten)          (None, 6272)              0         \n",
      "_________________________________________________________________\n",
      "dense_1 (Dense)              (None, 512)               3211776   \n",
      "_________________________________________________________________\n",
      "dense_2 (Dense)              (None, 1)                 513       \n",
      "=================================================================\n",
      "Total params: 3,453,121\n",
      "Trainable params: 3,453,121\n",
      "Non-trainable params: 0\n",
      "_________________________________________________________________\n"
     ]
    }
   ],
   "source": [
    "model.summary()"
   ]
  },
  {
   "cell_type": "code",
   "execution_count": 5,
   "metadata": {},
   "outputs": [
    {
     "name": "stderr",
     "output_type": "stream",
     "text": [
      "W1006 02:10:00.510680  7028 deprecation_wrapper.py:119] From C:\\Users\\asus\\Anaconda3\\lib\\site-packages\\keras\\optimizers.py:790: The name tf.train.Optimizer is deprecated. Please use tf.compat.v1.train.Optimizer instead.\n",
      "\n",
      "W1006 02:10:00.554926  7028 deprecation_wrapper.py:119] From C:\\Users\\asus\\Anaconda3\\lib\\site-packages\\keras\\backend\\tensorflow_backend.py:3376: The name tf.log is deprecated. Please use tf.math.log instead.\n",
      "\n",
      "W1006 02:10:00.566672  7028 deprecation.py:323] From C:\\Users\\asus\\Anaconda3\\lib\\site-packages\\tensorflow\\python\\ops\\nn_impl.py:180: add_dispatch_support.<locals>.wrapper (from tensorflow.python.ops.array_ops) is deprecated and will be removed in a future version.\n",
      "Instructions for updating:\n",
      "Use tf.where in 2.0, which has the same broadcast rule as np.where\n"
     ]
    }
   ],
   "source": [
    "from keras import optimizers\n",
    "model.compile(loss='binary_crossentropy',\n",
    "optimizer=optimizers.RMSprop(lr=1e-4),\n",
    "metrics=['acc'])    "
   ]
  },
  {
   "cell_type": "code",
   "execution_count": 6,
   "metadata": {},
   "outputs": [
    {
     "name": "stdout",
     "output_type": "stream",
     "text": [
      "Found 2000 images belonging to 2 classes.\n",
      "Found 1000 images belonging to 2 classes.\n"
     ]
    }
   ],
   "source": [
    "from keras.preprocessing.image import ImageDataGenerator\n",
    "\n",
    "train_datagen = ImageDataGenerator(rescale=1./255)\n",
    "test_datagen = ImageDataGenerator(rescale=1./255)\n",
    "\n",
    "train_generator = train_datagen.flow_from_directory(train_dir,\n",
    "                                                    target_size=(150, 150),\n",
    "                                                    batch_size=20,\n",
    "                                                    class_mode='binary')\n",
    "validation_generator = test_datagen.flow_from_directory(validation_dir,\n",
    "                                                        target_size=(150, 150),\n",
    "                                                        batch_size=20,\n",
    "                                                        class_mode='binary')"
   ]
  },
  {
   "cell_type": "code",
   "execution_count": 7,
   "metadata": {},
   "outputs": [
    {
     "name": "stdout",
     "output_type": "stream",
     "text": [
      "data batch shape: (20, 150, 150, 3)\n",
      "labels batch shape: (20,)\n"
     ]
    }
   ],
   "source": [
    "for data_batch, labels_batch in train_generator:\n",
    "    print('data batch shape:', data_batch.shape)\n",
    "    print('labels batch shape:', labels_batch.shape)\n",
    "    break"
   ]
  },
  {
   "cell_type": "code",
   "execution_count": 8,
   "metadata": {},
   "outputs": [
    {
     "name": "stderr",
     "output_type": "stream",
     "text": [
      "W1006 02:10:02.557535  7028 deprecation_wrapper.py:119] From C:\\Users\\asus\\Anaconda3\\lib\\site-packages\\keras\\backend\\tensorflow_backend.py:986: The name tf.assign_add is deprecated. Please use tf.compat.v1.assign_add instead.\n",
      "\n"
     ]
    },
    {
     "name": "stdout",
     "output_type": "stream",
     "text": [
      "Epoch 1/100\n",
      "100/100 [==============================] - 286s 3s/step - loss: 0.6888 - acc: 0.5440 - val_loss: 0.6662 - val_acc: 0.6150\n",
      "Epoch 2/100\n",
      "100/100 [==============================] - 275s 3s/step - loss: 0.6552 - acc: 0.6035 - val_loss: 0.6348 - val_acc: 0.6400\n",
      "Epoch 3/100\n",
      "100/100 [==============================] - 276s 3s/step - loss: 0.6034 - acc: 0.6725 - val_loss: 0.6056 - val_acc: 0.6530\n",
      "Epoch 4/100\n",
      "100/100 [==============================] - 277s 3s/step - loss: 0.5641 - acc: 0.7035 - val_loss: 0.5898 - val_acc: 0.6810\n",
      "Epoch 5/100\n",
      "100/100 [==============================] - 278s 3s/step - loss: 0.5400 - acc: 0.7165 - val_loss: 0.5818 - val_acc: 0.6830\n",
      "Epoch 6/100\n",
      "100/100 [==============================] - 275s 3s/step - loss: 0.5084 - acc: 0.7495 - val_loss: 0.5757 - val_acc: 0.6900\n",
      "Epoch 7/100\n",
      "100/100 [==============================] - 275s 3s/step - loss: 0.4905 - acc: 0.7690 - val_loss: 0.5729 - val_acc: 0.6990\n",
      "Epoch 8/100\n",
      "100/100 [==============================] - 277s 3s/step - loss: 0.4622 - acc: 0.7755 - val_loss: 0.5636 - val_acc: 0.7050\n",
      "Epoch 9/100\n",
      "100/100 [==============================] - 276s 3s/step - loss: 0.4419 - acc: 0.7930 - val_loss: 0.5648 - val_acc: 0.6990\n",
      "Epoch 10/100\n",
      "100/100 [==============================] - 277s 3s/step - loss: 0.4186 - acc: 0.8115 - val_loss: 0.5421 - val_acc: 0.7310\n",
      "Epoch 11/100\n",
      "100/100 [==============================] - 276s 3s/step - loss: 0.3940 - acc: 0.8200 - val_loss: 0.6848 - val_acc: 0.6890\n",
      "Epoch 12/100\n",
      "100/100 [==============================] - 277s 3s/step - loss: 0.3796 - acc: 0.8365 - val_loss: 0.5428 - val_acc: 0.7260\n",
      "Epoch 13/100\n",
      "100/100 [==============================] - 278s 3s/step - loss: 0.3444 - acc: 0.8540 - val_loss: 0.5676 - val_acc: 0.7280\n",
      "Epoch 14/100\n",
      "100/100 [==============================] - 278s 3s/step - loss: 0.3241 - acc: 0.8565 - val_loss: 0.5683 - val_acc: 0.7310\n",
      "Epoch 15/100\n",
      "100/100 [==============================] - 278s 3s/step - loss: 0.3064 - acc: 0.8695 - val_loss: 0.5504 - val_acc: 0.7290\n",
      "Epoch 16/100\n",
      "100/100 [==============================] - 279s 3s/step - loss: 0.2737 - acc: 0.8885 - val_loss: 0.5912 - val_acc: 0.7290\n",
      "Epoch 17/100\n",
      "100/100 [==============================] - 279s 3s/step - loss: 0.2608 - acc: 0.8940 - val_loss: 0.6332 - val_acc: 0.7350\n",
      "Epoch 18/100\n",
      "100/100 [==============================] - 280s 3s/step - loss: 0.2427 - acc: 0.9030 - val_loss: 0.5996 - val_acc: 0.7210\n",
      "Epoch 19/100\n",
      "100/100 [==============================] - 278s 3s/step - loss: 0.2209 - acc: 0.9125 - val_loss: 0.7019 - val_acc: 0.7120\n",
      "Epoch 20/100\n",
      "100/100 [==============================] - 279s 3s/step - loss: 0.2022 - acc: 0.9240 - val_loss: 0.7752 - val_acc: 0.6990\n",
      "Epoch 21/100\n",
      "100/100 [==============================] - 279s 3s/step - loss: 0.1786 - acc: 0.9350 - val_loss: 0.6597 - val_acc: 0.7250\n",
      "Epoch 22/100\n",
      "100/100 [==============================] - 278s 3s/step - loss: 0.1642 - acc: 0.9410 - val_loss: 0.6835 - val_acc: 0.7380\n",
      "Epoch 23/100\n",
      "100/100 [==============================] - 279s 3s/step - loss: 0.1498 - acc: 0.9430 - val_loss: 0.7074 - val_acc: 0.7250\n",
      "Epoch 24/100\n",
      "100/100 [==============================] - 279s 3s/step - loss: 0.1354 - acc: 0.9530 - val_loss: 0.7294 - val_acc: 0.7170\n",
      "Epoch 25/100\n",
      "100/100 [==============================] - 281s 3s/step - loss: 0.1100 - acc: 0.9655 - val_loss: 0.7581 - val_acc: 0.7220\n",
      "Epoch 26/100\n",
      "100/100 [==============================] - 279s 3s/step - loss: 0.1112 - acc: 0.9615 - val_loss: 0.8001 - val_acc: 0.7300\n",
      "Epoch 27/100\n",
      "100/100 [==============================] - 280s 3s/step - loss: 0.0867 - acc: 0.9745 - val_loss: 0.9477 - val_acc: 0.7170\n",
      "Epoch 28/100\n",
      "100/100 [==============================] - 280s 3s/step - loss: 0.0809 - acc: 0.9735 - val_loss: 0.8854 - val_acc: 0.7280\n",
      "Epoch 29/100\n",
      "100/100 [==============================] - 279s 3s/step - loss: 0.0666 - acc: 0.9795 - val_loss: 0.8999 - val_acc: 0.7300\n",
      "Epoch 30/100\n",
      "100/100 [==============================] - 280s 3s/step - loss: 0.0524 - acc: 0.9875 - val_loss: 0.9475 - val_acc: 0.7350\n",
      "Epoch 31/100\n",
      "100/100 [==============================] - 280s 3s/step - loss: 0.0578 - acc: 0.9825 - val_loss: 0.9340 - val_acc: 0.7280\n",
      "Epoch 32/100\n",
      "100/100 [==============================] - 280s 3s/step - loss: 0.0471 - acc: 0.9870 - val_loss: 0.9729 - val_acc: 0.7240\n",
      "Epoch 33/100\n",
      "100/100 [==============================] - 280s 3s/step - loss: 0.0424 - acc: 0.9870 - val_loss: 1.1834 - val_acc: 0.7140\n",
      "Epoch 34/100\n",
      "100/100 [==============================] - 280s 3s/step - loss: 0.0367 - acc: 0.9870 - val_loss: 1.1734 - val_acc: 0.7190\n",
      "Epoch 35/100\n",
      "100/100 [==============================] - 294s 3s/step - loss: 0.0362 - acc: 0.9905 - val_loss: 1.0731 - val_acc: 0.7320\n",
      "Epoch 36/100\n",
      "100/100 [==============================] - 283s 3s/step - loss: 0.0303 - acc: 0.9910 - val_loss: 1.0834 - val_acc: 0.7370\n",
      "Epoch 37/100\n",
      "100/100 [==============================] - 280s 3s/step - loss: 0.0260 - acc: 0.9910 - val_loss: 1.1754 - val_acc: 0.7150\n",
      "Epoch 38/100\n",
      "100/100 [==============================] - 280s 3s/step - loss: 0.0205 - acc: 0.9960 - val_loss: 1.2582 - val_acc: 0.7180\n",
      "Epoch 39/100\n",
      "100/100 [==============================] - 279s 3s/step - loss: 0.0191 - acc: 0.9945 - val_loss: 1.2841 - val_acc: 0.7260\n",
      "Epoch 40/100\n",
      "100/100 [==============================] - 281s 3s/step - loss: 0.0229 - acc: 0.9935 - val_loss: 1.2644 - val_acc: 0.7270\n",
      "Epoch 41/100\n",
      "100/100 [==============================] - 281s 3s/step - loss: 0.0187 - acc: 0.9940 - val_loss: 1.2157 - val_acc: 0.7240\n",
      "Epoch 42/100\n",
      "100/100 [==============================] - 282s 3s/step - loss: 0.0118 - acc: 0.9985 - val_loss: 1.5121 - val_acc: 0.7090\n",
      "Epoch 43/100\n",
      "100/100 [==============================] - 281s 3s/step - loss: 0.0205 - acc: 0.9950 - val_loss: 1.3743 - val_acc: 0.7260\n",
      "Epoch 44/100\n",
      "100/100 [==============================] - 281s 3s/step - loss: 0.0138 - acc: 0.9955 - val_loss: 1.6494 - val_acc: 0.7110\n",
      "Epoch 45/100\n",
      "100/100 [==============================] - 280s 3s/step - loss: 0.0209 - acc: 0.9945 - val_loss: 1.4363 - val_acc: 0.7230\n",
      "Epoch 46/100\n",
      "100/100 [==============================] - 281s 3s/step - loss: 0.0099 - acc: 0.9960 - val_loss: 1.4504 - val_acc: 0.7160\n",
      "Epoch 47/100\n",
      "100/100 [==============================] - 281s 3s/step - loss: 0.0187 - acc: 0.9925 - val_loss: 1.4841 - val_acc: 0.7110\n",
      "Epoch 48/100\n",
      "100/100 [==============================] - 280s 3s/step - loss: 0.0057 - acc: 0.9985 - val_loss: 1.5452 - val_acc: 0.7150\n",
      "Epoch 49/100\n",
      "100/100 [==============================] - 282s 3s/step - loss: 0.0061 - acc: 0.9980 - val_loss: 1.5624 - val_acc: 0.7230\n",
      "Epoch 50/100\n",
      "100/100 [==============================] - 281s 3s/step - loss: 0.0161 - acc: 0.9960 - val_loss: 2.5711 - val_acc: 0.6690\n",
      "Epoch 51/100\n",
      "100/100 [==============================] - 281s 3s/step - loss: 0.0203 - acc: 0.9940 - val_loss: 1.5779 - val_acc: 0.7210\n",
      "Epoch 52/100\n",
      "100/100 [==============================] - 280s 3s/step - loss: 0.0130 - acc: 0.9950 - val_loss: 1.6042 - val_acc: 0.7160\n",
      "Epoch 53/100\n",
      "100/100 [==============================] - 280s 3s/step - loss: 0.0115 - acc: 0.9940 - val_loss: 1.5489 - val_acc: 0.7290\n",
      "Epoch 54/100\n",
      "100/100 [==============================] - 279s 3s/step - loss: 0.0054 - acc: 0.9985 - val_loss: 1.6489 - val_acc: 0.7160\n",
      "Epoch 55/100\n",
      "100/100 [==============================] - 280s 3s/step - loss: 0.0085 - acc: 0.9985 - val_loss: 1.6574 - val_acc: 0.7230\n",
      "Epoch 56/100\n",
      "100/100 [==============================] - 280s 3s/step - loss: 0.0203 - acc: 0.9955 - val_loss: 1.7111 - val_acc: 0.7210\n",
      "Epoch 57/100\n",
      "100/100 [==============================] - 280s 3s/step - loss: 0.0111 - acc: 0.9980 - val_loss: 1.7090 - val_acc: 0.7210\n",
      "Epoch 58/100\n",
      "100/100 [==============================] - 280s 3s/step - loss: 0.0062 - acc: 0.9980 - val_loss: 1.7494 - val_acc: 0.7240\n",
      "Epoch 59/100\n",
      "100/100 [==============================] - 283s 3s/step - loss: 0.0157 - acc: 0.9965 - val_loss: 2.2083 - val_acc: 0.6970\n",
      "Epoch 60/100\n",
      "100/100 [==============================] - 282s 3s/step - loss: 0.0061 - acc: 0.9975 - val_loss: 1.6587 - val_acc: 0.7200\n",
      "Epoch 61/100\n",
      "100/100 [==============================] - 282s 3s/step - loss: 0.0056 - acc: 0.9970 - val_loss: 1.7526 - val_acc: 0.7110\n"
     ]
    },
    {
     "name": "stdout",
     "output_type": "stream",
     "text": [
      "Epoch 62/100\n",
      "100/100 [==============================] - 281s 3s/step - loss: 0.0053 - acc: 0.9985 - val_loss: 1.8570 - val_acc: 0.7170\n",
      "Epoch 63/100\n",
      "100/100 [==============================] - 281s 3s/step - loss: 0.0034 - acc: 0.9985 - val_loss: 1.8408 - val_acc: 0.7320\n",
      "Epoch 64/100\n",
      "100/100 [==============================] - 281s 3s/step - loss: 0.0079 - acc: 0.9975 - val_loss: 1.9101 - val_acc: 0.7270\n",
      "Epoch 65/100\n",
      "100/100 [==============================] - 281s 3s/step - loss: 0.0108 - acc: 0.9970 - val_loss: 1.8833 - val_acc: 0.7270\n",
      "Epoch 66/100\n",
      "100/100 [==============================] - 281s 3s/step - loss: 0.0079 - acc: 0.9975 - val_loss: 1.8087 - val_acc: 0.7230\n",
      "Epoch 67/100\n",
      "100/100 [==============================] - 281s 3s/step - loss: 0.0102 - acc: 0.9975 - val_loss: 1.8304 - val_acc: 0.7260\n",
      "Epoch 68/100\n",
      "100/100 [==============================] - 281s 3s/step - loss: 0.0092 - acc: 0.9975 - val_loss: 1.9026 - val_acc: 0.7250\n",
      "Epoch 69/100\n",
      "100/100 [==============================] - 280s 3s/step - loss: 0.0057 - acc: 0.9980 - val_loss: 3.0536 - val_acc: 0.6830\n",
      "Epoch 70/100\n",
      "100/100 [==============================] - 282s 3s/step - loss: 0.0164 - acc: 0.9955 - val_loss: 2.0549 - val_acc: 0.7160\n",
      "Epoch 71/100\n",
      "100/100 [==============================] - 281s 3s/step - loss: 3.9276e-04 - acc: 1.0000 - val_loss: 2.1034 - val_acc: 0.7120\n",
      "Epoch 72/100\n",
      "100/100 [==============================] - 280s 3s/step - loss: 0.0100 - acc: 0.9965 - val_loss: 2.0391 - val_acc: 0.7260\n",
      "Epoch 73/100\n",
      "100/100 [==============================] - 281s 3s/step - loss: 0.0073 - acc: 0.9965 - val_loss: 1.9306 - val_acc: 0.7280\n",
      "Epoch 74/100\n",
      "100/100 [==============================] - 280s 3s/step - loss: 0.0091 - acc: 0.9975 - val_loss: 1.9499 - val_acc: 0.7180\n",
      "Epoch 75/100\n",
      "100/100 [==============================] - 280s 3s/step - loss: 0.0176 - acc: 0.9955 - val_loss: 2.0369 - val_acc: 0.7080\n",
      "Epoch 76/100\n",
      "100/100 [==============================] - 281s 3s/step - loss: 1.8456e-04 - acc: 1.0000 - val_loss: 2.0147 - val_acc: 0.7280\n",
      "Epoch 77/100\n",
      "100/100 [==============================] - 282s 3s/step - loss: 0.0076 - acc: 0.9975 - val_loss: 2.1151 - val_acc: 0.7110\n",
      "Epoch 78/100\n",
      "100/100 [==============================] - 282s 3s/step - loss: 0.0092 - acc: 0.9970 - val_loss: 2.1866 - val_acc: 0.7160\n",
      "Epoch 79/100\n",
      "100/100 [==============================] - 288s 3s/step - loss: 0.0013 - acc: 0.9995 - val_loss: 1.9738 - val_acc: 0.7240\n",
      "Epoch 80/100\n",
      "100/100 [==============================] - 282s 3s/step - loss: 0.0059 - acc: 0.9985 - val_loss: 2.0309 - val_acc: 0.7220\n",
      "Epoch 81/100\n",
      "100/100 [==============================] - 283s 3s/step - loss: 0.0030 - acc: 0.9990 - val_loss: 2.0616 - val_acc: 0.7040\n",
      "Epoch 82/100\n",
      "100/100 [==============================] - 3049s 30s/step - loss: 0.0057 - acc: 0.9995 - val_loss: 2.0556 - val_acc: 0.7200\n",
      "Epoch 83/100\n",
      "100/100 [==============================] - 309s 3s/step - loss: 0.0124 - acc: 0.9970 - val_loss: 2.0776 - val_acc: 0.7080\n",
      "Epoch 84/100\n",
      "100/100 [==============================] - 306s 3s/step - loss: 0.0105 - acc: 0.9955 - val_loss: 2.4452 - val_acc: 0.7130\n",
      "Epoch 85/100\n",
      "100/100 [==============================] - 287s 3s/step - loss: 8.7083e-04 - acc: 0.9995 - val_loss: 2.0475 - val_acc: 0.7280\n",
      "Epoch 86/100\n",
      "100/100 [==============================] - 286s 3s/step - loss: 0.0030 - acc: 0.9990 - val_loss: 2.2921 - val_acc: 0.7150\n",
      "Epoch 87/100\n",
      "100/100 [==============================] - 285s 3s/step - loss: 0.0036 - acc: 0.9985 - val_loss: 2.0964 - val_acc: 0.7250\n",
      "Epoch 88/100\n",
      "100/100 [==============================] - 294s 3s/step - loss: 4.7107e-05 - acc: 1.0000 - val_loss: 2.2903 - val_acc: 0.7160\n",
      "Epoch 89/100\n",
      "100/100 [==============================] - 302s 3s/step - loss: 0.0194 - acc: 0.9950 - val_loss: 2.1401 - val_acc: 0.7190\n",
      "Epoch 90/100\n",
      "100/100 [==============================] - 296s 3s/step - loss: 0.0058 - acc: 0.9985 - val_loss: 2.2865 - val_acc: 0.7090\n",
      "Epoch 91/100\n",
      "100/100 [==============================] - 295s 3s/step - loss: 0.0081 - acc: 0.9985 - val_loss: 2.1889 - val_acc: 0.7230\n",
      "Epoch 92/100\n",
      "100/100 [==============================] - 290s 3s/step - loss: 0.0227 - acc: 0.9955 - val_loss: 2.0458 - val_acc: 0.7240\n",
      "Epoch 93/100\n",
      "100/100 [==============================] - 294s 3s/step - loss: 0.0017 - acc: 0.9995 - val_loss: 2.1219 - val_acc: 0.7150\n",
      "Epoch 94/100\n",
      "100/100 [==============================] - 296s 3s/step - loss: 0.0073 - acc: 0.9970 - val_loss: 2.1447 - val_acc: 0.7180\n",
      "Epoch 95/100\n",
      "100/100 [==============================] - 297s 3s/step - loss: 2.0383e-05 - acc: 1.0000 - val_loss: 2.2004 - val_acc: 0.7250\n",
      "Epoch 96/100\n",
      "100/100 [==============================] - 294s 3s/step - loss: 0.0067 - acc: 0.9980 - val_loss: 2.2148 - val_acc: 0.7100\n",
      "Epoch 97/100\n",
      "100/100 [==============================] - 289s 3s/step - loss: 0.0046 - acc: 0.9990 - val_loss: 2.2872 - val_acc: 0.7100\n",
      "Epoch 98/100\n",
      "100/100 [==============================] - 292s 3s/step - loss: 0.0076 - acc: 0.9985 - val_loss: 2.1463 - val_acc: 0.7190\n",
      "Epoch 99/100\n",
      "100/100 [==============================] - 291s 3s/step - loss: 0.0079 - acc: 0.9980 - val_loss: 2.1382 - val_acc: 0.7260\n",
      "Epoch 100/100\n",
      "100/100 [==============================] - 289s 3s/step - loss: 0.0065 - acc: 0.9975 - val_loss: 2.5126 - val_acc: 0.7120\n"
     ]
    }
   ],
   "source": [
    "history = model.fit_generator(train_generator,steps_per_epoch=100,epochs=100,\n",
    "validation_data=validation_generator,validation_steps=50)"
   ]
  },
  {
   "cell_type": "code",
   "execution_count": 13,
   "metadata": {},
   "outputs": [],
   "source": [
    "model.save('cats_and_dogs_small_1.h5')"
   ]
  },
  {
   "cell_type": "code",
   "execution_count": 10,
   "metadata": {},
   "outputs": [
    {
     "data": {
      "image/png": "[encoded data removed]",
      "text/plain": [
       "<Figure size 432x288 with 1 Axes>"
      ]
     },
     "metadata": {
      "needs_background": "light"
     },
     "output_type": "display_data"
    },
    {
     "data": {
      "image/png": "[encoded data removed]",
      "text/plain": [
       "<Figure size 432x288 with 1 Axes>"
      ]
     },
     "metadata": {
      "needs_background": "light"
     },
     "output_type": "display_data"
    }
   ],
   "source": [
    "    import matplotlib.pyplot as plt\n",
    "    %matplotlib inline\n",
    "    acc = history.history['acc']\n",
    "    val_acc = history.history['val_acc']\n",
    "    loss = history.history['loss']\n",
    "    val_loss = history.history['val_loss']\n",
    "    epochs = range(1, len(acc) + 1)\n",
    "    plt.plot(epochs, acc, 'bo', label='Training acc')\n",
    "    plt.plot(epochs, val_acc, 'b', label='Validation acc')\n",
    "    plt.title('Training and validation accuracy')\n",
    "    plt.legend()\n",
    "    plt.figure()\n",
    "    plt.plot(epochs, loss, 'bo', label='Training loss')\n",
    "    plt.plot(epochs, val_loss, 'b', label='Validation loss')\n",
    "    plt.title('Training and validation loss')\n",
    "    plt.legend()\n",
    "    plt.show()"
   ]
  },
  {
   "cell_type": "code",
   "execution_count": 14,
   "metadata": {},
   "outputs": [],
   "source": [
    "datagen = ImageDataGenerator(\n",
    "rotation_range=40,\n",
    "width_shift_range=0.2,\n",
    "height_shift_range=0.2,\n",
    "shear_range=0.2,\n",
    "zoom_range=0.2,\n",
    "horizontal_flip=True,\n",
    "fill_mode='nearest')"
   ]
  },
  {
   "cell_type": "code",
   "execution_count": 12,
   "metadata": {},
   "outputs": [
    {
     "ename": "SyntaxError",
     "evalue": "'break' outside loop (<ipython-input-12-a48be8700d1a>, line 17)",
     "output_type": "error",
     "traceback": [
      "\u001b[1;36m  File \u001b[1;32m\"<ipython-input-12-a48be8700d1a>\"\u001b[1;36m, line \u001b[1;32m17\u001b[0m\n\u001b[1;31mSyntaxError\u001b[0m\u001b[1;31m:\u001b[0m 'break' outside loop\n"
     ]
    }
   ],
   "source": [
    "from keras.preprocessing import image\n",
    "fnames = [os.path.join(train_cats_dir, fname) for\n",
    "fname in os.listdir(train_cats_dir)]\n",
    "img_path = fnames[3]\n",
    "img = image.load_img(img_path, target_size=(150, 150))\n",
    "x = image.img_to_array(img)\n",
    "x = x.reshape((1,) + x.shape)\n",
    "i = 0\n",
    "for batch in datagen.flow(x, batch_size=1):\n",
    "    plt.figure(i)\n",
    "    imgplot = plt.imshow(image.array_to_img(batch[0]))\n",
    "    i += 1\n",
    "if i % 4 == 0:\n",
    "    break\n",
    "    \n"
   ]
  },
  {
   "cell_type": "code",
   "execution_count": 15,
   "metadata": {},
   "outputs": [],
   "source": [
    "import pandas as pd\n",
    "hist_df = pd.DataFrame(history.history) \n",
    "\n",
    "hist_csv_file = 'history.csv'\n",
    "\n",
    "with open(hist_csv_file, mode='w') as f:\n",
    "    hist_df.to_csv(f)"
   ]
  },
  {
   "cell_type": "code",
   "execution_count": 16,
   "metadata": {},
   "outputs": [
    {
     "data": {
      "text/plain": [
       "'C:\\\\Users\\\\asus'"
      ]
     },
     "execution_count": 16,
     "metadata": {},
     "output_type": "execute_result"
    }
   ],
   "source": [
    "pwd"
   ]
  },
  {
   "cell_type": "code",
   "execution_count": null,
   "metadata": {},
   "outputs": [],
   "source": []
  },
  {
   "cell_type": "code",
   "execution_count": null,
   "metadata": {},
   "outputs": [],
   "source": []
  }
 ],
 "metadata": {
  "kernelspec": {
   "display_name": "Python 3",
   "language": "python",
   "name": "python3"
  },
  "language_info": {
   "codemirror_mode": {
    "name": "ipython",
    "version": 3
   },
   "file_extension": ".py",
   "mimetype": "text/x-python",
   "name": "python",
   "nbconvert_exporter": "python",
   "pygments_lexer": "ipython3",
   "version": "3.7.3"
  }
 },
 "nbformat": 4,
 "nbformat_minor": 2
}
